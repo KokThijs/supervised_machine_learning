{
 "cells": [
  {
   "cell_type": "markdown",
   "metadata": {},
   "source": [
    "# Final Assignment Supervised learning\n",
    "\n",
    "## information\n",
    "    Thijs Kok\n",
    "    348224\n",
    "    DSLS\n",
    "\n",
    "\n",
    "## Justification of dataset\n",
    "\n",
    "I chose to use the parkinsons dataset because:\n",
    "\n",
    "- It's easily available\n",
    "\n",
    "- It has documentation about the data\n",
    "\n",
    "- It's interesting to look at the comparison between vocal data and parkinsons\n",
    "\n",
    "- I think the dataset is usefull to train classifiers on because it has binary choices (i.e. either 0 or 1)\n",
    "\n",
    "- My grandmother had parkinsons\n",
    "\n",
    "\n",
    "## information on the data\n",
    "\n",
    "Attribute Information:\n",
    "\n",
    "Matrix column entries (attributes):\n",
    "- name - ASCII subject name and recording number\n",
    "- MDVP:Fo(Hz) - Average vocal fundamental frequency\n",
    "- MDVP:Fhi(Hz) - Maximum vocal fundamental frequency\n",
    "- MDVP:Flo(Hz) - Minimum vocal fundamental frequency\n",
    "- MDVP:Jitter(%),MDVP:Jitter(Abs),MDVP:RAP,MDVP:PPQ,Jitter:DDP - Several \n",
    "- measures of variation in fundamental frequency\n",
    "- MDVP:Shimmer,MDVP:Shimmer(dB),Shimmer:APQ3,Shimmer:APQ5,MDVP:APQ,Shimmer:DDA - Several measures of variation in amplitude\n",
    "- NHR,HNR - Two measures of ratio of noise to tonal components in the voice\n",
    "- status - Health status of the subject (one) - Parkinson's, (zero) - healthy\n",
    "- RPDE,D2 - Two nonlinear dynamical complexity measures\n",
    "- DFA - Signal fractal scaling exponent\n",
    "- spread1,spread2,PPE - Three nonlinear measures of fundamental frequency variation \n",
    "\n",
    "## Choice of algorithms\n",
    "\n",
    "Since the question we're looking for is the prediction of parkinsons based on vocal recordings, this is a classification problem.\n",
    "\n",
    "the techniques used will be: \n",
    "\n",
    "- logistic regression\n",
    "- decision trees\n",
    "- ensemble learning\n"
   ]
  },
  {
   "cell_type": "markdown",
   "metadata": {},
   "source": [
    "### Initialisation"
   ]
  },
  {
   "cell_type": "code",
   "execution_count": 686,
   "metadata": {},
   "outputs": [
    {
     "data": {
      "text/html": [
       "\n",
       "    <div class=\"bk-root\">\n",
       "        <a href=\"https://bokeh.org\" target=\"_blank\" class=\"bk-logo bk-logo-small bk-logo-notebook\"></a>\n",
       "        <span id=\"16863\">Loading BokehJS ...</span>\n",
       "    </div>"
      ]
     },
     "metadata": {},
     "output_type": "display_data"
    },
    {
     "data": {
      "application/javascript": "\n(function(root) {\n  function now() {\n    return new Date();\n  }\n\n  const force = true;\n\n  if (typeof root._bokeh_onload_callbacks === \"undefined\" || force === true) {\n    root._bokeh_onload_callbacks = [];\n    root._bokeh_is_loading = undefined;\n  }\n\n  const JS_MIME_TYPE = 'application/javascript';\n  const HTML_MIME_TYPE = 'text/html';\n  const EXEC_MIME_TYPE = 'application/vnd.bokehjs_exec.v0+json';\n  const CLASS_NAME = 'output_bokeh rendered_html';\n\n  /**\n   * Render data to the DOM node\n   */\n  function render(props, node) {\n    const script = document.createElement(\"script\");\n    node.appendChild(script);\n  }\n\n  /**\n   * Handle when an output is cleared or removed\n   */\n  function handleClearOutput(event, handle) {\n    const cell = handle.cell;\n\n    const id = cell.output_area._bokeh_element_id;\n    const server_id = cell.output_area._bokeh_server_id;\n    // Clean up Bokeh references\n    if (id != null && id in Bokeh.index) {\n      Bokeh.index[id].model.document.clear();\n      delete Bokeh.index[id];\n    }\n\n    if (server_id !== undefined) {\n      // Clean up Bokeh references\n      const cmd_clean = \"from bokeh.io.state import curstate; print(curstate().uuid_to_server['\" + server_id + \"'].get_sessions()[0].document.roots[0]._id)\";\n      cell.notebook.kernel.execute(cmd_clean, {\n        iopub: {\n          output: function(msg) {\n            const id = msg.content.text.trim();\n            if (id in Bokeh.index) {\n              Bokeh.index[id].model.document.clear();\n              delete Bokeh.index[id];\n            }\n          }\n        }\n      });\n      // Destroy server and session\n      const cmd_destroy = \"import bokeh.io.notebook as ion; ion.destroy_server('\" + server_id + \"')\";\n      cell.notebook.kernel.execute(cmd_destroy);\n    }\n  }\n\n  /**\n   * Handle when a new output is added\n   */\n  function handleAddOutput(event, handle) {\n    const output_area = handle.output_area;\n    const output = handle.output;\n\n    // limit handleAddOutput to display_data with EXEC_MIME_TYPE content only\n    if ((output.output_type != \"display_data\") || (!Object.prototype.hasOwnProperty.call(output.data, EXEC_MIME_TYPE))) {\n      return\n    }\n\n    const toinsert = output_area.element.find(\".\" + CLASS_NAME.split(' ')[0]);\n\n    if (output.metadata[EXEC_MIME_TYPE][\"id\"] !== undefined) {\n      toinsert[toinsert.length - 1].firstChild.textContent = output.data[JS_MIME_TYPE];\n      // store reference to embed id on output_area\n      output_area._bokeh_element_id = output.metadata[EXEC_MIME_TYPE][\"id\"];\n    }\n    if (output.metadata[EXEC_MIME_TYPE][\"server_id\"] !== undefined) {\n      const bk_div = document.createElement(\"div\");\n      bk_div.innerHTML = output.data[HTML_MIME_TYPE];\n      const script_attrs = bk_div.children[0].attributes;\n      for (let i = 0; i < script_attrs.length; i++) {\n        toinsert[toinsert.length - 1].firstChild.setAttribute(script_attrs[i].name, script_attrs[i].value);\n        toinsert[toinsert.length - 1].firstChild.textContent = bk_div.children[0].textContent\n      }\n      // store reference to server id on output_area\n      output_area._bokeh_server_id = output.metadata[EXEC_MIME_TYPE][\"server_id\"];\n    }\n  }\n\n  function register_renderer(events, OutputArea) {\n\n    function append_mime(data, metadata, element) {\n      // create a DOM node to render to\n      const toinsert = this.create_output_subarea(\n        metadata,\n        CLASS_NAME,\n        EXEC_MIME_TYPE\n      );\n      this.keyboard_manager.register_events(toinsert);\n      // Render to node\n      const props = {data: data, metadata: metadata[EXEC_MIME_TYPE]};\n      render(props, toinsert[toinsert.length - 1]);\n      element.append(toinsert);\n      return toinsert\n    }\n\n    /* Handle when an output is cleared or removed */\n    events.on('clear_output.CodeCell', handleClearOutput);\n    events.on('delete.Cell', handleClearOutput);\n\n    /* Handle when a new output is added */\n    events.on('output_added.OutputArea', handleAddOutput);\n\n    /**\n     * Register the mime type and append_mime function with output_area\n     */\n    OutputArea.prototype.register_mime_type(EXEC_MIME_TYPE, append_mime, {\n      /* Is output safe? */\n      safe: true,\n      /* Index of renderer in `output_area.display_order` */\n      index: 0\n    });\n  }\n\n  // register the mime type if in Jupyter Notebook environment and previously unregistered\n  if (root.Jupyter !== undefined) {\n    const events = require('base/js/events');\n    const OutputArea = require('notebook/js/outputarea').OutputArea;\n\n    if (OutputArea.prototype.mime_types().indexOf(EXEC_MIME_TYPE) == -1) {\n      register_renderer(events, OutputArea);\n    }\n  }\n\n  \n  if (typeof (root._bokeh_timeout) === \"undefined\" || force === true) {\n    root._bokeh_timeout = Date.now() + 5000;\n    root._bokeh_failed_load = false;\n  }\n\n  const NB_LOAD_WARNING = {'data': {'text/html':\n     \"<div style='background-color: #fdd'>\\n\"+\n     \"<p>\\n\"+\n     \"BokehJS does not appear to have successfully loaded. If loading BokehJS from CDN, this \\n\"+\n     \"may be due to a slow or bad network connection. Possible fixes:\\n\"+\n     \"</p>\\n\"+\n     \"<ul>\\n\"+\n     \"<li>re-rerun `output_notebook()` to attempt to load from CDN again, or</li>\\n\"+\n     \"<li>use INLINE resources instead, as so:</li>\\n\"+\n     \"</ul>\\n\"+\n     \"<code>\\n\"+\n     \"from bokeh.resources import INLINE\\n\"+\n     \"output_notebook(resources=INLINE)\\n\"+\n     \"</code>\\n\"+\n     \"</div>\"}};\n\n  function display_loaded() {\n    const el = document.getElementById(\"16863\");\n    if (el != null) {\n      el.textContent = \"BokehJS is loading...\";\n    }\n    if (root.Bokeh !== undefined) {\n      if (el != null) {\n        el.textContent = \"BokehJS \" + root.Bokeh.version + \" successfully loaded.\";\n      }\n    } else if (Date.now() < root._bokeh_timeout) {\n      setTimeout(display_loaded, 100)\n    }\n  }\n\n\n  function run_callbacks() {\n    try {\n      root._bokeh_onload_callbacks.forEach(function(callback) {\n        if (callback != null)\n          callback();\n      });\n    } finally {\n      delete root._bokeh_onload_callbacks\n    }\n    console.debug(\"Bokeh: all callbacks have finished\");\n  }\n\n  function load_libs(css_urls, js_urls, callback) {\n    if (css_urls == null) css_urls = [];\n    if (js_urls == null) js_urls = [];\n\n    root._bokeh_onload_callbacks.push(callback);\n    if (root._bokeh_is_loading > 0) {\n      console.debug(\"Bokeh: BokehJS is being loaded, scheduling callback at\", now());\n      return null;\n    }\n    if (js_urls == null || js_urls.length === 0) {\n      run_callbacks();\n      return null;\n    }\n    console.debug(\"Bokeh: BokehJS not loaded, scheduling load and callback at\", now());\n    root._bokeh_is_loading = css_urls.length + js_urls.length;\n\n    function on_load() {\n      root._bokeh_is_loading--;\n      if (root._bokeh_is_loading === 0) {\n        console.debug(\"Bokeh: all BokehJS libraries/stylesheets loaded\");\n        run_callbacks()\n      }\n    }\n\n    function on_error(url) {\n      console.error(\"failed to load \" + url);\n    }\n\n    for (let i = 0; i < css_urls.length; i++) {\n      const url = css_urls[i];\n      const element = document.createElement(\"link\");\n      element.onload = on_load;\n      element.onerror = on_error.bind(null, url);\n      element.rel = \"stylesheet\";\n      element.type = \"text/css\";\n      element.href = url;\n      console.debug(\"Bokeh: injecting link tag for BokehJS stylesheet: \", url);\n      document.body.appendChild(element);\n    }\n\n    for (let i = 0; i < js_urls.length; i++) {\n      const url = js_urls[i];\n      const element = document.createElement('script');\n      element.onload = on_load;\n      element.onerror = on_error.bind(null, url);\n      element.async = false;\n      element.src = url;\n      console.debug(\"Bokeh: injecting script tag for BokehJS library: \", url);\n      document.head.appendChild(element);\n    }\n  };\n\n  function inject_raw_css(css) {\n    const element = document.createElement(\"style\");\n    element.appendChild(document.createTextNode(css));\n    document.body.appendChild(element);\n  }\n\n  \n  const js_urls = [\"https://cdn.bokeh.org/bokeh/release/bokeh-2.4.2.min.js\", \"https://cdn.bokeh.org/bokeh/release/bokeh-gl-2.4.2.min.js\", \"https://cdn.bokeh.org/bokeh/release/bokeh-widgets-2.4.2.min.js\", \"https://cdn.bokeh.org/bokeh/release/bokeh-tables-2.4.2.min.js\", \"https://cdn.bokeh.org/bokeh/release/bokeh-mathjax-2.4.2.min.js\"];\n  const css_urls = [];\n  \n\n  const inline_js = [\n    function(Bokeh) {\n      Bokeh.set_log_level(\"info\");\n    },\n    function(Bokeh) {\n    \n    \n    }\n  ];\n\n  function run_inline_js() {\n    \n    if (root.Bokeh !== undefined || force === true) {\n      \n    for (let i = 0; i < inline_js.length; i++) {\n      inline_js[i].call(root, root.Bokeh);\n    }\n    if (force === true) {\n        display_loaded();\n      }} else if (Date.now() < root._bokeh_timeout) {\n      setTimeout(run_inline_js, 100);\n    } else if (!root._bokeh_failed_load) {\n      console.log(\"Bokeh: BokehJS failed to load within specified timeout.\");\n      root._bokeh_failed_load = true;\n    } else if (force !== true) {\n      const cell = $(document.getElementById(\"16863\")).parents('.cell').data().cell;\n      cell.output_area.append_execute_result(NB_LOAD_WARNING)\n    }\n\n  }\n\n  if (root._bokeh_is_loading === 0) {\n    console.debug(\"Bokeh: BokehJS loaded, going straight to plotting\");\n    run_inline_js();\n  } else {\n    load_libs(css_urls, js_urls, function() {\n      console.debug(\"Bokeh: BokehJS plotting callback run at\", now());\n      run_inline_js();\n    });\n  }\n}(window));",
      "application/vnd.bokehjs_load.v0+json": ""
     },
     "metadata": {},
     "output_type": "display_data"
    }
   ],
   "source": [
    "import requests as req\n",
    "import pandas as pd\n",
    "import numpy as np\n",
    "import matplotlib.pyplot as plt\n",
    "import scipy.optimize as opt\n",
    "import sklearn as sk\n",
    "from sklearn.preprocessing import StandardScaler\n",
    "from sklearn.model_selection import train_test_split\n",
    "\n",
    "\n",
    "# bokeh imports for the heatmap plotting\n",
    "#import bokeh and direct the output to the notebook\n",
    "from bokeh.io import output_notebook\n",
    "output_notebook()\n",
    "from bokeh.layouts import gridplot\n",
    "from bokeh.plotting import figure, output_file, show\n",
    "from bokeh.models import (BasicTicker, ColorBar, ColumnDataSource,\n",
    "                          LinearColorMapper, PrintfTickFormatter,)\n",
    "from bokeh.transform import transform\n",
    "from bokeh.palettes import Viridis256\n",
    "from bokeh.models import ColumnDataSource\n"
   ]
  },
  {
   "cell_type": "markdown",
   "metadata": {},
   "source": [
    "### Downloading the data\n",
    "The data is obtained from: http://archive.ics.uci.edu/ml/machine-learning-databases/parkinsons/parkinsons.data\n",
    "\n",
    "I got this data from:\n",
    "*'Exploiting Nonlinear Recurrence and Fractal Scaling Properties for Voice Disorder Detection', \n",
    "Little MA, McSharry PE, Roberts SJ, Costello DAE, Moroz IM. \n",
    "BioMedical Engineering OnLine 2007, 6:23 (26 June 2007)*"
   ]
  },
  {
   "cell_type": "code",
   "execution_count": 687,
   "metadata": {},
   "outputs": [],
   "source": [
    "# download the parkingson data from: http://archive.ics.uci.edu/ml/machine-learning-databases/parkinsons/parkinsons.data\n",
    "try:\n",
    "    response = req.get('http://archive.ics.uci.edu/ml/machine-learning-databases/parkinsons/parkinsons.data', timeout=2.50)\n",
    "    with open(file='data/parkinsons.data', mode= 'w', encoding='utf-8') as data_file:\n",
    "        data_file.write(response.text)\n",
    "except Exception as e:\n",
    "    print(f'{e}')"
   ]
  },
  {
   "cell_type": "markdown",
   "metadata": {},
   "source": [
    "### Load & inspect the data\n",
    "\n",
    "We know that the 'status' column contains the information wether or not someone has parkinsons.\n",
    "This will be our 'y' value for the classifiers"
   ]
  },
  {
   "cell_type": "code",
   "execution_count": 688,
   "metadata": {},
   "outputs": [
    {
     "data": {
      "text/html": [
       "<div>\n",
       "<style scoped>\n",
       "    .dataframe tbody tr th:only-of-type {\n",
       "        vertical-align: middle;\n",
       "    }\n",
       "\n",
       "    .dataframe tbody tr th {\n",
       "        vertical-align: top;\n",
       "    }\n",
       "\n",
       "    .dataframe thead th {\n",
       "        text-align: right;\n",
       "    }\n",
       "</style>\n",
       "<table border=\"1\" class=\"dataframe\">\n",
       "  <thead>\n",
       "    <tr style=\"text-align: right;\">\n",
       "      <th></th>\n",
       "      <th>name</th>\n",
       "      <th>MDVP:Fo(Hz)</th>\n",
       "      <th>MDVP:Fhi(Hz)</th>\n",
       "      <th>MDVP:Flo(Hz)</th>\n",
       "      <th>MDVP:Jitter(%)</th>\n",
       "      <th>MDVP:Jitter(Abs)</th>\n",
       "      <th>MDVP:RAP</th>\n",
       "      <th>MDVP:PPQ</th>\n",
       "      <th>Jitter:DDP</th>\n",
       "      <th>MDVP:Shimmer</th>\n",
       "      <th>...</th>\n",
       "      <th>Shimmer:DDA</th>\n",
       "      <th>NHR</th>\n",
       "      <th>HNR</th>\n",
       "      <th>status</th>\n",
       "      <th>RPDE</th>\n",
       "      <th>DFA</th>\n",
       "      <th>spread1</th>\n",
       "      <th>spread2</th>\n",
       "      <th>D2</th>\n",
       "      <th>PPE</th>\n",
       "    </tr>\n",
       "  </thead>\n",
       "  <tbody>\n",
       "    <tr>\n",
       "      <th>0</th>\n",
       "      <td>phon_R01_S01_1</td>\n",
       "      <td>119.992</td>\n",
       "      <td>157.302</td>\n",
       "      <td>74.997</td>\n",
       "      <td>0.00784</td>\n",
       "      <td>0.00007</td>\n",
       "      <td>0.00370</td>\n",
       "      <td>0.00554</td>\n",
       "      <td>0.01109</td>\n",
       "      <td>0.04374</td>\n",
       "      <td>...</td>\n",
       "      <td>0.06545</td>\n",
       "      <td>0.02211</td>\n",
       "      <td>21.033</td>\n",
       "      <td>1</td>\n",
       "      <td>0.414783</td>\n",
       "      <td>0.815285</td>\n",
       "      <td>-4.813031</td>\n",
       "      <td>0.266482</td>\n",
       "      <td>2.301442</td>\n",
       "      <td>0.284654</td>\n",
       "    </tr>\n",
       "    <tr>\n",
       "      <th>1</th>\n",
       "      <td>phon_R01_S01_2</td>\n",
       "      <td>122.400</td>\n",
       "      <td>148.650</td>\n",
       "      <td>113.819</td>\n",
       "      <td>0.00968</td>\n",
       "      <td>0.00008</td>\n",
       "      <td>0.00465</td>\n",
       "      <td>0.00696</td>\n",
       "      <td>0.01394</td>\n",
       "      <td>0.06134</td>\n",
       "      <td>...</td>\n",
       "      <td>0.09403</td>\n",
       "      <td>0.01929</td>\n",
       "      <td>19.085</td>\n",
       "      <td>1</td>\n",
       "      <td>0.458359</td>\n",
       "      <td>0.819521</td>\n",
       "      <td>-4.075192</td>\n",
       "      <td>0.335590</td>\n",
       "      <td>2.486855</td>\n",
       "      <td>0.368674</td>\n",
       "    </tr>\n",
       "    <tr>\n",
       "      <th>2</th>\n",
       "      <td>phon_R01_S01_3</td>\n",
       "      <td>116.682</td>\n",
       "      <td>131.111</td>\n",
       "      <td>111.555</td>\n",
       "      <td>0.01050</td>\n",
       "      <td>0.00009</td>\n",
       "      <td>0.00544</td>\n",
       "      <td>0.00781</td>\n",
       "      <td>0.01633</td>\n",
       "      <td>0.05233</td>\n",
       "      <td>...</td>\n",
       "      <td>0.08270</td>\n",
       "      <td>0.01309</td>\n",
       "      <td>20.651</td>\n",
       "      <td>1</td>\n",
       "      <td>0.429895</td>\n",
       "      <td>0.825288</td>\n",
       "      <td>-4.443179</td>\n",
       "      <td>0.311173</td>\n",
       "      <td>2.342259</td>\n",
       "      <td>0.332634</td>\n",
       "    </tr>\n",
       "    <tr>\n",
       "      <th>3</th>\n",
       "      <td>phon_R01_S01_4</td>\n",
       "      <td>116.676</td>\n",
       "      <td>137.871</td>\n",
       "      <td>111.366</td>\n",
       "      <td>0.00997</td>\n",
       "      <td>0.00009</td>\n",
       "      <td>0.00502</td>\n",
       "      <td>0.00698</td>\n",
       "      <td>0.01505</td>\n",
       "      <td>0.05492</td>\n",
       "      <td>...</td>\n",
       "      <td>0.08771</td>\n",
       "      <td>0.01353</td>\n",
       "      <td>20.644</td>\n",
       "      <td>1</td>\n",
       "      <td>0.434969</td>\n",
       "      <td>0.819235</td>\n",
       "      <td>-4.117501</td>\n",
       "      <td>0.334147</td>\n",
       "      <td>2.405554</td>\n",
       "      <td>0.368975</td>\n",
       "    </tr>\n",
       "    <tr>\n",
       "      <th>4</th>\n",
       "      <td>phon_R01_S01_5</td>\n",
       "      <td>116.014</td>\n",
       "      <td>141.781</td>\n",
       "      <td>110.655</td>\n",
       "      <td>0.01284</td>\n",
       "      <td>0.00011</td>\n",
       "      <td>0.00655</td>\n",
       "      <td>0.00908</td>\n",
       "      <td>0.01966</td>\n",
       "      <td>0.06425</td>\n",
       "      <td>...</td>\n",
       "      <td>0.10470</td>\n",
       "      <td>0.01767</td>\n",
       "      <td>19.649</td>\n",
       "      <td>1</td>\n",
       "      <td>0.417356</td>\n",
       "      <td>0.823484</td>\n",
       "      <td>-3.747787</td>\n",
       "      <td>0.234513</td>\n",
       "      <td>2.332180</td>\n",
       "      <td>0.410335</td>\n",
       "    </tr>\n",
       "  </tbody>\n",
       "</table>\n",
       "<p>5 rows × 24 columns</p>\n",
       "</div>"
      ],
      "text/plain": [
       "             name  MDVP:Fo(Hz)  MDVP:Fhi(Hz)  MDVP:Flo(Hz)  MDVP:Jitter(%)  \\\n",
       "0  phon_R01_S01_1      119.992       157.302        74.997         0.00784   \n",
       "1  phon_R01_S01_2      122.400       148.650       113.819         0.00968   \n",
       "2  phon_R01_S01_3      116.682       131.111       111.555         0.01050   \n",
       "3  phon_R01_S01_4      116.676       137.871       111.366         0.00997   \n",
       "4  phon_R01_S01_5      116.014       141.781       110.655         0.01284   \n",
       "\n",
       "   MDVP:Jitter(Abs)  MDVP:RAP  MDVP:PPQ  Jitter:DDP  MDVP:Shimmer  ...  \\\n",
       "0           0.00007   0.00370   0.00554     0.01109       0.04374  ...   \n",
       "1           0.00008   0.00465   0.00696     0.01394       0.06134  ...   \n",
       "2           0.00009   0.00544   0.00781     0.01633       0.05233  ...   \n",
       "3           0.00009   0.00502   0.00698     0.01505       0.05492  ...   \n",
       "4           0.00011   0.00655   0.00908     0.01966       0.06425  ...   \n",
       "\n",
       "   Shimmer:DDA      NHR     HNR  status      RPDE       DFA   spread1  \\\n",
       "0      0.06545  0.02211  21.033       1  0.414783  0.815285 -4.813031   \n",
       "1      0.09403  0.01929  19.085       1  0.458359  0.819521 -4.075192   \n",
       "2      0.08270  0.01309  20.651       1  0.429895  0.825288 -4.443179   \n",
       "3      0.08771  0.01353  20.644       1  0.434969  0.819235 -4.117501   \n",
       "4      0.10470  0.01767  19.649       1  0.417356  0.823484 -3.747787   \n",
       "\n",
       "    spread2        D2       PPE  \n",
       "0  0.266482  2.301442  0.284654  \n",
       "1  0.335590  2.486855  0.368674  \n",
       "2  0.311173  2.342259  0.332634  \n",
       "3  0.334147  2.405554  0.368975  \n",
       "4  0.234513  2.332180  0.410335  \n",
       "\n",
       "[5 rows x 24 columns]"
      ]
     },
     "execution_count": 688,
     "metadata": {},
     "output_type": "execute_result"
    }
   ],
   "source": [
    "data = pd.read_csv('data/parkinsons.data', sep=',')\n",
    "data.head()"
   ]
  },
  {
   "cell_type": "markdown",
   "metadata": {},
   "source": [
    "#### check if there are any missing values"
   ]
  },
  {
   "cell_type": "code",
   "execution_count": 689,
   "metadata": {},
   "outputs": [
    {
     "name": "stdout",
     "output_type": "stream",
     "text": [
      "name                0\n",
      "MDVP:Fo(Hz)         0\n",
      "MDVP:Fhi(Hz)        0\n",
      "MDVP:Flo(Hz)        0\n",
      "MDVP:Jitter(%)      0\n",
      "MDVP:Jitter(Abs)    0\n",
      "MDVP:RAP            0\n",
      "MDVP:PPQ            0\n",
      "Jitter:DDP          0\n",
      "MDVP:Shimmer        0\n",
      "MDVP:Shimmer(dB)    0\n",
      "Shimmer:APQ3        0\n",
      "Shimmer:APQ5        0\n",
      "MDVP:APQ            0\n",
      "Shimmer:DDA         0\n",
      "NHR                 0\n",
      "HNR                 0\n",
      "status              0\n",
      "RPDE                0\n",
      "DFA                 0\n",
      "spread1             0\n",
      "spread2             0\n",
      "D2                  0\n",
      "PPE                 0\n",
      "dtype: int64\n"
     ]
    }
   ],
   "source": [
    "print(data.isnull().sum())"
   ]
  },
  {
   "cell_type": "markdown",
   "metadata": {},
   "source": [
    "As we can see from the cell above, there appears to be no missing data.\n"
   ]
  },
  {
   "cell_type": "code",
   "execution_count": 690,
   "metadata": {},
   "outputs": [
    {
     "name": "stdout",
     "output_type": "stream",
     "text": [
      "<class 'pandas.core.frame.DataFrame'>\n",
      "RangeIndex: 195 entries, 0 to 194\n",
      "Data columns (total 24 columns):\n",
      " #   Column            Non-Null Count  Dtype  \n",
      "---  ------            --------------  -----  \n",
      " 0   name              195 non-null    object \n",
      " 1   MDVP:Fo(Hz)       195 non-null    float64\n",
      " 2   MDVP:Fhi(Hz)      195 non-null    float64\n",
      " 3   MDVP:Flo(Hz)      195 non-null    float64\n",
      " 4   MDVP:Jitter(%)    195 non-null    float64\n",
      " 5   MDVP:Jitter(Abs)  195 non-null    float64\n",
      " 6   MDVP:RAP          195 non-null    float64\n",
      " 7   MDVP:PPQ          195 non-null    float64\n",
      " 8   Jitter:DDP        195 non-null    float64\n",
      " 9   MDVP:Shimmer      195 non-null    float64\n",
      " 10  MDVP:Shimmer(dB)  195 non-null    float64\n",
      " 11  Shimmer:APQ3      195 non-null    float64\n",
      " 12  Shimmer:APQ5      195 non-null    float64\n",
      " 13  MDVP:APQ          195 non-null    float64\n",
      " 14  Shimmer:DDA       195 non-null    float64\n",
      " 15  NHR               195 non-null    float64\n",
      " 16  HNR               195 non-null    float64\n",
      " 17  status            195 non-null    int64  \n",
      " 18  RPDE              195 non-null    float64\n",
      " 19  DFA               195 non-null    float64\n",
      " 20  spread1           195 non-null    float64\n",
      " 21  spread2           195 non-null    float64\n",
      " 22  D2                195 non-null    float64\n",
      " 23  PPE               195 non-null    float64\n",
      "dtypes: float64(22), int64(1), object(1)\n",
      "memory usage: 36.7+ KB\n"
     ]
    }
   ],
   "source": [
    "data.info()"
   ]
  },
  {
   "cell_type": "markdown",
   "metadata": {},
   "source": [
    "Let's see if the data is correlated."
   ]
  },
  {
   "cell_type": "code",
   "execution_count": 691,
   "metadata": {},
   "outputs": [
    {
     "data": {
      "text/html": [
       "\n",
       "\n",
       "\n",
       "\n",
       "\n",
       "\n",
       "  <div class=\"bk-root\" id=\"17180c50-c3d4-4fb4-a623-92718f491dec\" data-root-id=\"16866\"></div>\n"
      ]
     },
     "metadata": {},
     "output_type": "display_data"
    },
    {
     "data": {
      "application/javascript": "(function(root) {\n  function embed_document(root) {\n    \n  const docs_json = {\"5100fd34-800f-4198-868f-f9339bfb9393\":{\"defs\":[],\"roots\":{\"references\":[{\"attributes\":{\"above\":[{\"id\":\"16877\"}],\"center\":[{\"id\":\"16879\"},{\"id\":\"16882\"}],\"height\":450,\"left\":[{\"id\":\"16880\"}],\"renderers\":[{\"id\":\"16901\"}],\"right\":[{\"id\":\"16905\"}],\"title\":{\"id\":\"16867\"},\"toolbar\":{\"id\":\"16890\"},\"toolbar_location\":null,\"width\":500,\"x_range\":{\"id\":\"16869\"},\"x_scale\":{\"id\":\"16873\"},\"y_range\":{\"id\":\"16871\"},\"y_scale\":{\"id\":\"16875\"}},\"id\":\"16866\",\"subtype\":\"Figure\",\"type\":\"Plot\"},{\"attributes\":{},\"id\":\"17408\",\"type\":\"AllLabels\"},{\"attributes\":{\"axis\":{\"id\":\"16877\"},\"coordinates\":null,\"group\":null,\"ticker\":null},\"id\":\"16879\",\"type\":\"Grid\"},{\"attributes\":{},\"id\":\"17409\",\"type\":\"UnionRenderers\"},{\"attributes\":{\"source\":{\"id\":\"16864\"}},\"id\":\"16902\",\"type\":\"CDSView\"},{\"attributes\":{},\"id\":\"16873\",\"type\":\"CategoricalScale\"},{\"attributes\":{},\"id\":\"17403\",\"type\":\"CategoricalTickFormatter\"},{\"attributes\":{\"format\":\"%.1f\"},\"id\":\"16904\",\"type\":\"PrintfTickFormatter\"},{\"attributes\":{},\"id\":\"17407\",\"type\":\"CategoricalTickFormatter\"},{\"attributes\":{\"coordinates\":null,\"group\":null,\"text\":\"correlation heatmap\"},\"id\":\"16867\",\"type\":\"Title\"},{\"attributes\":{\"tools\":[{\"id\":\"16883\"},{\"id\":\"16884\"},{\"id\":\"16885\"},{\"id\":\"16886\"},{\"id\":\"16887\"},{\"id\":\"16888\"}]},\"id\":\"16890\",\"type\":\"Toolbar\"},{\"attributes\":{\"coordinates\":null,\"data_source\":{\"id\":\"16864\"},\"glyph\":{\"id\":\"16898\"},\"group\":null,\"hover_glyph\":null,\"muted_glyph\":{\"id\":\"16900\"},\"nonselection_glyph\":{\"id\":\"16899\"},\"view\":{\"id\":\"16902\"}},\"id\":\"16901\",\"type\":\"GlyphRenderer\"},{\"attributes\":{},\"id\":\"17404\",\"type\":\"AllLabels\"},{\"attributes\":{},\"id\":\"17405\",\"type\":\"NoOverlap\"},{\"attributes\":{\"data\":{\"index\":[0,1,2,3,4,5,6,7,8,9,10,11,12,13,14,15,16,17,18,19,20,21,22,23,24,25,26,27,28,29,30,31,32,33,34,35,36,37,38,39,40,41,42,43,44,45,46,47,48,49,50,51,52,53,54,55,56,57,58,59,60,61,62,63,64,65,66,67,68,69,70,71,72,73,74,75,76,77,78,79,80,81,82,83,84,85,86,87,88,89,90,91,92,93,94,95,96,97,98,99,100,101,102,103,104,105,106,107,108,109,110,111,112,113,114,115,116,117,118,119,120,121,122,123,124,125,126,127,128,129,130,131,132,133,134,135,136,137,138,139,140,141,142,143,144,145,146,147,148,149,150,151,152,153,154,155,156,157,158,159,160,161,162,163,164,165,166,167,168,169,170,171,172,173,174,175,176,177,178,179,180,181,182,183,184,185,186,187,188,189,190,191,192,193,194,195,196,197,198,199,200,201,202,203,204,205,206,207,208,209,210,211,212,213,214,215,216,217,218,219,220,221,222,223,224,225,226,227,228,229,230,231,232,233,234,235,236,237,238,239,240,241,242,243,244,245,246,247,248,249,250,251,252,253,254,255,256,257,258,259,260,261,262,263,264,265,266,267,268,269,270,271,272,273,274,275,276,277,278,279,280,281,282,283,284,285,286,287,288,289,290,291,292,293,294,295,296,297,298,299,300,301,302,303,304,305,306,307,308,309,310,311,312,313,314,315,316,317,318,319,320,321,322,323,324,325,326,327,328,329,330,331,332,333,334,335,336,337,338,339,340,341,342,343,344,345,346,347,348,349,350,351,352,353,354,355,356,357,358,359,360,361,362,363,364,365,366,367,368,369,370,371,372,373,374,375,376,377,378,379,380,381,382,383,384,385,386,387,388,389,390,391,392,393,394,395,396,397,398,399,400,401,402,403,404,405,406,407,408,409,410,411,412,413,414,415,416,417,418,419,420,421,422,423,424,425,426,427,428,429,430,431,432,433,434,435,436,437,438,439,440,441,442,443,444,445,446,447,448,449,450,451,452,453,454,455,456,457,458,459,460,461,462,463,464,465,466,467,468,469,470,471,472,473,474,475,476,477,478,479,480,481,482,483,484,485,486,487,488,489,490,491,492,493,494,495,496,497,498,499,500,501,502,503,504,505,506,507,508,509,510,511,512,513,514,515,516,517,518,519,520,521,522,523,524,525,526,527,528],\"level_0\":[\"MDVP:Fo(Hz)\",\"MDVP:Fo(Hz)\",\"MDVP:Fo(Hz)\",\"MDVP:Fo(Hz)\",\"MDVP:Fo(Hz)\",\"MDVP:Fo(Hz)\",\"MDVP:Fo(Hz)\",\"MDVP:Fo(Hz)\",\"MDVP:Fo(Hz)\",\"MDVP:Fo(Hz)\",\"MDVP:Fo(Hz)\",\"MDVP:Fo(Hz)\",\"MDVP:Fo(Hz)\",\"MDVP:Fo(Hz)\",\"MDVP:Fo(Hz)\",\"MDVP:Fo(Hz)\",\"MDVP:Fo(Hz)\",\"MDVP:Fo(Hz)\",\"MDVP:Fo(Hz)\",\"MDVP:Fo(Hz)\",\"MDVP:Fo(Hz)\",\"MDVP:Fo(Hz)\",\"MDVP:Fo(Hz)\",\"MDVP:Fhi(Hz)\",\"MDVP:Fhi(Hz)\",\"MDVP:Fhi(Hz)\",\"MDVP:Fhi(Hz)\",\"MDVP:Fhi(Hz)\",\"MDVP:Fhi(Hz)\",\"MDVP:Fhi(Hz)\",\"MDVP:Fhi(Hz)\",\"MDVP:Fhi(Hz)\",\"MDVP:Fhi(Hz)\",\"MDVP:Fhi(Hz)\",\"MDVP:Fhi(Hz)\",\"MDVP:Fhi(Hz)\",\"MDVP:Fhi(Hz)\",\"MDVP:Fhi(Hz)\",\"MDVP:Fhi(Hz)\",\"MDVP:Fhi(Hz)\",\"MDVP:Fhi(Hz)\",\"MDVP:Fhi(Hz)\",\"MDVP:Fhi(Hz)\",\"MDVP:Fhi(Hz)\",\"MDVP:Fhi(Hz)\",\"MDVP:Fhi(Hz)\",\"MDVP:Flo(Hz)\",\"MDVP:Flo(Hz)\",\"MDVP:Flo(Hz)\",\"MDVP:Flo(Hz)\",\"MDVP:Flo(Hz)\",\"MDVP:Flo(Hz)\",\"MDVP:Flo(Hz)\",\"MDVP:Flo(Hz)\",\"MDVP:Flo(Hz)\",\"MDVP:Flo(Hz)\",\"MDVP:Flo(Hz)\",\"MDVP:Flo(Hz)\",\"MDVP:Flo(Hz)\",\"MDVP:Flo(Hz)\",\"MDVP:Flo(Hz)\",\"MDVP:Flo(Hz)\",\"MDVP:Flo(Hz)\",\"MDVP:Flo(Hz)\",\"MDVP:Flo(Hz)\",\"MDVP:Flo(Hz)\",\"MDVP:Flo(Hz)\",\"MDVP:Flo(Hz)\",\"MDVP:Flo(Hz)\",\"MDVP:Jitter(%)\",\"MDVP:Jitter(%)\",\"MDVP:Jitter(%)\",\"MDVP:Jitter(%)\",\"MDVP:Jitter(%)\",\"MDVP:Jitter(%)\",\"MDVP:Jitter(%)\",\"MDVP:Jitter(%)\",\"MDVP:Jitter(%)\",\"MDVP:Jitter(%)\",\"MDVP:Jitter(%)\",\"MDVP:Jitter(%)\",\"MDVP:Jitter(%)\",\"MDVP:Jitter(%)\",\"MDVP:Jitter(%)\",\"MDVP:Jitter(%)\",\"MDVP:Jitter(%)\",\"MDVP:Jitter(%)\",\"MDVP:Jitter(%)\",\"MDVP:Jitter(%)\",\"MDVP:Jitter(%)\",\"MDVP:Jitter(%)\",\"MDVP:Jitter(%)\",\"MDVP:Jitter(Abs)\",\"MDVP:Jitter(Abs)\",\"MDVP:Jitter(Abs)\",\"MDVP:Jitter(Abs)\",\"MDVP:Jitter(Abs)\",\"MDVP:Jitter(Abs)\",\"MDVP:Jitter(Abs)\",\"MDVP:Jitter(Abs)\",\"MDVP:Jitter(Abs)\",\"MDVP:Jitter(Abs)\",\"MDVP:Jitter(Abs)\",\"MDVP:Jitter(Abs)\",\"MDVP:Jitter(Abs)\",\"MDVP:Jitter(Abs)\",\"MDVP:Jitter(Abs)\",\"MDVP:Jitter(Abs)\",\"MDVP:Jitter(Abs)\",\"MDVP:Jitter(Abs)\",\"MDVP:Jitter(Abs)\",\"MDVP:Jitter(Abs)\",\"MDVP:Jitter(Abs)\",\"MDVP:Jitter(Abs)\",\"MDVP:Jitter(Abs)\",\"MDVP:RAP\",\"MDVP:RAP\",\"MDVP:RAP\",\"MDVP:RAP\",\"MDVP:RAP\",\"MDVP:RAP\",\"MDVP:RAP\",\"MDVP:RAP\",\"MDVP:RAP\",\"MDVP:RAP\",\"MDVP:RAP\",\"MDVP:RAP\",\"MDVP:RAP\",\"MDVP:RAP\",\"MDVP:RAP\",\"MDVP:RAP\",\"MDVP:RAP\",\"MDVP:RAP\",\"MDVP:RAP\",\"MDVP:RAP\",\"MDVP:RAP\",\"MDVP:RAP\",\"MDVP:RAP\",\"MDVP:PPQ\",\"MDVP:PPQ\",\"MDVP:PPQ\",\"MDVP:PPQ\",\"MDVP:PPQ\",\"MDVP:PPQ\",\"MDVP:PPQ\",\"MDVP:PPQ\",\"MDVP:PPQ\",\"MDVP:PPQ\",\"MDVP:PPQ\",\"MDVP:PPQ\",\"MDVP:PPQ\",\"MDVP:PPQ\",\"MDVP:PPQ\",\"MDVP:PPQ\",\"MDVP:PPQ\",\"MDVP:PPQ\",\"MDVP:PPQ\",\"MDVP:PPQ\",\"MDVP:PPQ\",\"MDVP:PPQ\",\"MDVP:PPQ\",\"Jitter:DDP\",\"Jitter:DDP\",\"Jitter:DDP\",\"Jitter:DDP\",\"Jitter:DDP\",\"Jitter:DDP\",\"Jitter:DDP\",\"Jitter:DDP\",\"Jitter:DDP\",\"Jitter:DDP\",\"Jitter:DDP\",\"Jitter:DDP\",\"Jitter:DDP\",\"Jitter:DDP\",\"Jitter:DDP\",\"Jitter:DDP\",\"Jitter:DDP\",\"Jitter:DDP\",\"Jitter:DDP\",\"Jitter:DDP\",\"Jitter:DDP\",\"Jitter:DDP\",\"Jitter:DDP\",\"MDVP:Shimmer\",\"MDVP:Shimmer\",\"MDVP:Shimmer\",\"MDVP:Shimmer\",\"MDVP:Shimmer\",\"MDVP:Shimmer\",\"MDVP:Shimmer\",\"MDVP:Shimmer\",\"MDVP:Shimmer\",\"MDVP:Shimmer\",\"MDVP:Shimmer\",\"MDVP:Shimmer\",\"MDVP:Shimmer\",\"MDVP:Shimmer\",\"MDVP:Shimmer\",\"MDVP:Shimmer\",\"MDVP:Shimmer\",\"MDVP:Shimmer\",\"MDVP:Shimmer\",\"MDVP:Shimmer\",\"MDVP:Shimmer\",\"MDVP:Shimmer\",\"MDVP:Shimmer\",\"MDVP:Shimmer(dB)\",\"MDVP:Shimmer(dB)\",\"MDVP:Shimmer(dB)\",\"MDVP:Shimmer(dB)\",\"MDVP:Shimmer(dB)\",\"MDVP:Shimmer(dB)\",\"MDVP:Shimmer(dB)\",\"MDVP:Shimmer(dB)\",\"MDVP:Shimmer(dB)\",\"MDVP:Shimmer(dB)\",\"MDVP:Shimmer(dB)\",\"MDVP:Shimmer(dB)\",\"MDVP:Shimmer(dB)\",\"MDVP:Shimmer(dB)\",\"MDVP:Shimmer(dB)\",\"MDVP:Shimmer(dB)\",\"MDVP:Shimmer(dB)\",\"MDVP:Shimmer(dB)\",\"MDVP:Shimmer(dB)\",\"MDVP:Shimmer(dB)\",\"MDVP:Shimmer(dB)\",\"MDVP:Shimmer(dB)\",\"MDVP:Shimmer(dB)\",\"Shimmer:APQ3\",\"Shimmer:APQ3\",\"Shimmer:APQ3\",\"Shimmer:APQ3\",\"Shimmer:APQ3\",\"Shimmer:APQ3\",\"Shimmer:APQ3\",\"Shimmer:APQ3\",\"Shimmer:APQ3\",\"Shimmer:APQ3\",\"Shimmer:APQ3\",\"Shimmer:APQ3\",\"Shimmer:APQ3\",\"Shimmer:APQ3\",\"Shimmer:APQ3\",\"Shimmer:APQ3\",\"Shimmer:APQ3\",\"Shimmer:APQ3\",\"Shimmer:APQ3\",\"Shimmer:APQ3\",\"Shimmer:APQ3\",\"Shimmer:APQ3\",\"Shimmer:APQ3\",\"Shimmer:APQ5\",\"Shimmer:APQ5\",\"Shimmer:APQ5\",\"Shimmer:APQ5\",\"Shimmer:APQ5\",\"Shimmer:APQ5\",\"Shimmer:APQ5\",\"Shimmer:APQ5\",\"Shimmer:APQ5\",\"Shimmer:APQ5\",\"Shimmer:APQ5\",\"Shimmer:APQ5\",\"Shimmer:APQ5\",\"Shimmer:APQ5\",\"Shimmer:APQ5\",\"Shimmer:APQ5\",\"Shimmer:APQ5\",\"Shimmer:APQ5\",\"Shimmer:APQ5\",\"Shimmer:APQ5\",\"Shimmer:APQ5\",\"Shimmer:APQ5\",\"Shimmer:APQ5\",\"MDVP:APQ\",\"MDVP:APQ\",\"MDVP:APQ\",\"MDVP:APQ\",\"MDVP:APQ\",\"MDVP:APQ\",\"MDVP:APQ\",\"MDVP:APQ\",\"MDVP:APQ\",\"MDVP:APQ\",\"MDVP:APQ\",\"MDVP:APQ\",\"MDVP:APQ\",\"MDVP:APQ\",\"MDVP:APQ\",\"MDVP:APQ\",\"MDVP:APQ\",\"MDVP:APQ\",\"MDVP:APQ\",\"MDVP:APQ\",\"MDVP:APQ\",\"MDVP:APQ\",\"MDVP:APQ\",\"Shimmer:DDA\",\"Shimmer:DDA\",\"Shimmer:DDA\",\"Shimmer:DDA\",\"Shimmer:DDA\",\"Shimmer:DDA\",\"Shimmer:DDA\",\"Shimmer:DDA\",\"Shimmer:DDA\",\"Shimmer:DDA\",\"Shimmer:DDA\",\"Shimmer:DDA\",\"Shimmer:DDA\",\"Shimmer:DDA\",\"Shimmer:DDA\",\"Shimmer:DDA\",\"Shimmer:DDA\",\"Shimmer:DDA\",\"Shimmer:DDA\",\"Shimmer:DDA\",\"Shimmer:DDA\",\"Shimmer:DDA\",\"Shimmer:DDA\",\"NHR\",\"NHR\",\"NHR\",\"NHR\",\"NHR\",\"NHR\",\"NHR\",\"NHR\",\"NHR\",\"NHR\",\"NHR\",\"NHR\",\"NHR\",\"NHR\",\"NHR\",\"NHR\",\"NHR\",\"NHR\",\"NHR\",\"NHR\",\"NHR\",\"NHR\",\"NHR\",\"HNR\",\"HNR\",\"HNR\",\"HNR\",\"HNR\",\"HNR\",\"HNR\",\"HNR\",\"HNR\",\"HNR\",\"HNR\",\"HNR\",\"HNR\",\"HNR\",\"HNR\",\"HNR\",\"HNR\",\"HNR\",\"HNR\",\"HNR\",\"HNR\",\"HNR\",\"HNR\",\"status\",\"status\",\"status\",\"status\",\"status\",\"status\",\"status\",\"status\",\"status\",\"status\",\"status\",\"status\",\"status\",\"status\",\"status\",\"status\",\"status\",\"status\",\"status\",\"status\",\"status\",\"status\",\"status\",\"RPDE\",\"RPDE\",\"RPDE\",\"RPDE\",\"RPDE\",\"RPDE\",\"RPDE\",\"RPDE\",\"RPDE\",\"RPDE\",\"RPDE\",\"RPDE\",\"RPDE\",\"RPDE\",\"RPDE\",\"RPDE\",\"RPDE\",\"RPDE\",\"RPDE\",\"RPDE\",\"RPDE\",\"RPDE\",\"RPDE\",\"DFA\",\"DFA\",\"DFA\",\"DFA\",\"DFA\",\"DFA\",\"DFA\",\"DFA\",\"DFA\",\"DFA\",\"DFA\",\"DFA\",\"DFA\",\"DFA\",\"DFA\",\"DFA\",\"DFA\",\"DFA\",\"DFA\",\"DFA\",\"DFA\",\"DFA\",\"DFA\",\"spread1\",\"spread1\",\"spread1\",\"spread1\",\"spread1\",\"spread1\",\"spread1\",\"spread1\",\"spread1\",\"spread1\",\"spread1\",\"spread1\",\"spread1\",\"spread1\",\"spread1\",\"spread1\",\"spread1\",\"spread1\",\"spread1\",\"spread1\",\"spread1\",\"spread1\",\"spread1\",\"spread2\",\"spread2\",\"spread2\",\"spread2\",\"spread2\",\"spread2\",\"spread2\",\"spread2\",\"spread2\",\"spread2\",\"spread2\",\"spread2\",\"spread2\",\"spread2\",\"spread2\",\"spread2\",\"spread2\",\"spread2\",\"spread2\",\"spread2\",\"spread2\",\"spread2\",\"spread2\",\"D2\",\"D2\",\"D2\",\"D2\",\"D2\",\"D2\",\"D2\",\"D2\",\"D2\",\"D2\",\"D2\",\"D2\",\"D2\",\"D2\",\"D2\",\"D2\",\"D2\",\"D2\",\"D2\",\"D2\",\"D2\",\"D2\",\"D2\",\"PPE\",\"PPE\",\"PPE\",\"PPE\",\"PPE\",\"PPE\",\"PPE\",\"PPE\",\"PPE\",\"PPE\",\"PPE\",\"PPE\",\"PPE\",\"PPE\",\"PPE\",\"PPE\",\"PPE\",\"PPE\",\"PPE\",\"PPE\",\"PPE\",\"PPE\",\"PPE\"],\"level_1\":[\"MDVP:Fo(Hz)\",\"MDVP:Fhi(Hz)\",\"MDVP:Flo(Hz)\",\"MDVP:Jitter(%)\",\"MDVP:Jitter(Abs)\",\"MDVP:RAP\",\"MDVP:PPQ\",\"Jitter:DDP\",\"MDVP:Shimmer\",\"MDVP:Shimmer(dB)\",\"Shimmer:APQ3\",\"Shimmer:APQ5\",\"MDVP:APQ\",\"Shimmer:DDA\",\"NHR\",\"HNR\",\"status\",\"RPDE\",\"DFA\",\"spread1\",\"spread2\",\"D2\",\"PPE\",\"MDVP:Fo(Hz)\",\"MDVP:Fhi(Hz)\",\"MDVP:Flo(Hz)\",\"MDVP:Jitter(%)\",\"MDVP:Jitter(Abs)\",\"MDVP:RAP\",\"MDVP:PPQ\",\"Jitter:DDP\",\"MDVP:Shimmer\",\"MDVP:Shimmer(dB)\",\"Shimmer:APQ3\",\"Shimmer:APQ5\",\"MDVP:APQ\",\"Shimmer:DDA\",\"NHR\",\"HNR\",\"status\",\"RPDE\",\"DFA\",\"spread1\",\"spread2\",\"D2\",\"PPE\",\"MDVP:Fo(Hz)\",\"MDVP:Fhi(Hz)\",\"MDVP:Flo(Hz)\",\"MDVP:Jitter(%)\",\"MDVP:Jitter(Abs)\",\"MDVP:RAP\",\"MDVP:PPQ\",\"Jitter:DDP\",\"MDVP:Shimmer\",\"MDVP:Shimmer(dB)\",\"Shimmer:APQ3\",\"Shimmer:APQ5\",\"MDVP:APQ\",\"Shimmer:DDA\",\"NHR\",\"HNR\",\"status\",\"RPDE\",\"DFA\",\"spread1\",\"spread2\",\"D2\",\"PPE\",\"MDVP:Fo(Hz)\",\"MDVP:Fhi(Hz)\",\"MDVP:Flo(Hz)\",\"MDVP:Jitter(%)\",\"MDVP:Jitter(Abs)\",\"MDVP:RAP\",\"MDVP:PPQ\",\"Jitter:DDP\",\"MDVP:Shimmer\",\"MDVP:Shimmer(dB)\",\"Shimmer:APQ3\",\"Shimmer:APQ5\",\"MDVP:APQ\",\"Shimmer:DDA\",\"NHR\",\"HNR\",\"status\",\"RPDE\",\"DFA\",\"spread1\",\"spread2\",\"D2\",\"PPE\",\"MDVP:Fo(Hz)\",\"MDVP:Fhi(Hz)\",\"MDVP:Flo(Hz)\",\"MDVP:Jitter(%)\",\"MDVP:Jitter(Abs)\",\"MDVP:RAP\",\"MDVP:PPQ\",\"Jitter:DDP\",\"MDVP:Shimmer\",\"MDVP:Shimmer(dB)\",\"Shimmer:APQ3\",\"Shimmer:APQ5\",\"MDVP:APQ\",\"Shimmer:DDA\",\"NHR\",\"HNR\",\"status\",\"RPDE\",\"DFA\",\"spread1\",\"spread2\",\"D2\",\"PPE\",\"MDVP:Fo(Hz)\",\"MDVP:Fhi(Hz)\",\"MDVP:Flo(Hz)\",\"MDVP:Jitter(%)\",\"MDVP:Jitter(Abs)\",\"MDVP:RAP\",\"MDVP:PPQ\",\"Jitter:DDP\",\"MDVP:Shimmer\",\"MDVP:Shimmer(dB)\",\"Shimmer:APQ3\",\"Shimmer:APQ5\",\"MDVP:APQ\",\"Shimmer:DDA\",\"NHR\",\"HNR\",\"status\",\"RPDE\",\"DFA\",\"spread1\",\"spread2\",\"D2\",\"PPE\",\"MDVP:Fo(Hz)\",\"MDVP:Fhi(Hz)\",\"MDVP:Flo(Hz)\",\"MDVP:Jitter(%)\",\"MDVP:Jitter(Abs)\",\"MDVP:RAP\",\"MDVP:PPQ\",\"Jitter:DDP\",\"MDVP:Shimmer\",\"MDVP:Shimmer(dB)\",\"Shimmer:APQ3\",\"Shimmer:APQ5\",\"MDVP:APQ\",\"Shimmer:DDA\",\"NHR\",\"HNR\",\"status\",\"RPDE\",\"DFA\",\"spread1\",\"spread2\",\"D2\",\"PPE\",\"MDVP:Fo(Hz)\",\"MDVP:Fhi(Hz)\",\"MDVP:Flo(Hz)\",\"MDVP:Jitter(%)\",\"MDVP:Jitter(Abs)\",\"MDVP:RAP\",\"MDVP:PPQ\",\"Jitter:DDP\",\"MDVP:Shimmer\",\"MDVP:Shimmer(dB)\",\"Shimmer:APQ3\",\"Shimmer:APQ5\",\"MDVP:APQ\",\"Shimmer:DDA\",\"NHR\",\"HNR\",\"status\",\"RPDE\",\"DFA\",\"spread1\",\"spread2\",\"D2\",\"PPE\",\"MDVP:Fo(Hz)\",\"MDVP:Fhi(Hz)\",\"MDVP:Flo(Hz)\",\"MDVP:Jitter(%)\",\"MDVP:Jitter(Abs)\",\"MDVP:RAP\",\"MDVP:PPQ\",\"Jitter:DDP\",\"MDVP:Shimmer\",\"MDVP:Shimmer(dB)\",\"Shimmer:APQ3\",\"Shimmer:APQ5\",\"MDVP:APQ\",\"Shimmer:DDA\",\"NHR\",\"HNR\",\"status\",\"RPDE\",\"DFA\",\"spread1\",\"spread2\",\"D2\",\"PPE\",\"MDVP:Fo(Hz)\",\"MDVP:Fhi(Hz)\",\"MDVP:Flo(Hz)\",\"MDVP:Jitter(%)\",\"MDVP:Jitter(Abs)\",\"MDVP:RAP\",\"MDVP:PPQ\",\"Jitter:DDP\",\"MDVP:Shimmer\",\"MDVP:Shimmer(dB)\",\"Shimmer:APQ3\",\"Shimmer:APQ5\",\"MDVP:APQ\",\"Shimmer:DDA\",\"NHR\",\"HNR\",\"status\",\"RPDE\",\"DFA\",\"spread1\",\"spread2\",\"D2\",\"PPE\",\"MDVP:Fo(Hz)\",\"MDVP:Fhi(Hz)\",\"MDVP:Flo(Hz)\",\"MDVP:Jitter(%)\",\"MDVP:Jitter(Abs)\",\"MDVP:RAP\",\"MDVP:PPQ\",\"Jitter:DDP\",\"MDVP:Shimmer\",\"MDVP:Shimmer(dB)\",\"Shimmer:APQ3\",\"Shimmer:APQ5\",\"MDVP:APQ\",\"Shimmer:DDA\",\"NHR\",\"HNR\",\"status\",\"RPDE\",\"DFA\",\"spread1\",\"spread2\",\"D2\",\"PPE\",\"MDVP:Fo(Hz)\",\"MDVP:Fhi(Hz)\",\"MDVP:Flo(Hz)\",\"MDVP:Jitter(%)\",\"MDVP:Jitter(Abs)\",\"MDVP:RAP\",\"MDVP:PPQ\",\"Jitter:DDP\",\"MDVP:Shimmer\",\"MDVP:Shimmer(dB)\",\"Shimmer:APQ3\",\"Shimmer:APQ5\",\"MDVP:APQ\",\"Shimmer:DDA\",\"NHR\",\"HNR\",\"status\",\"RPDE\",\"DFA\",\"spread1\",\"spread2\",\"D2\",\"PPE\",\"MDVP:Fo(Hz)\",\"MDVP:Fhi(Hz)\",\"MDVP:Flo(Hz)\",\"MDVP:Jitter(%)\",\"MDVP:Jitter(Abs)\",\"MDVP:RAP\",\"MDVP:PPQ\",\"Jitter:DDP\",\"MDVP:Shimmer\",\"MDVP:Shimmer(dB)\",\"Shimmer:APQ3\",\"Shimmer:APQ5\",\"MDVP:APQ\",\"Shimmer:DDA\",\"NHR\",\"HNR\",\"status\",\"RPDE\",\"DFA\",\"spread1\",\"spread2\",\"D2\",\"PPE\",\"MDVP:Fo(Hz)\",\"MDVP:Fhi(Hz)\",\"MDVP:Flo(Hz)\",\"MDVP:Jitter(%)\",\"MDVP:Jitter(Abs)\",\"MDVP:RAP\",\"MDVP:PPQ\",\"Jitter:DDP\",\"MDVP:Shimmer\",\"MDVP:Shimmer(dB)\",\"Shimmer:APQ3\",\"Shimmer:APQ5\",\"MDVP:APQ\",\"Shimmer:DDA\",\"NHR\",\"HNR\",\"status\",\"RPDE\",\"DFA\",\"spread1\",\"spread2\",\"D2\",\"PPE\",\"MDVP:Fo(Hz)\",\"MDVP:Fhi(Hz)\",\"MDVP:Flo(Hz)\",\"MDVP:Jitter(%)\",\"MDVP:Jitter(Abs)\",\"MDVP:RAP\",\"MDVP:PPQ\",\"Jitter:DDP\",\"MDVP:Shimmer\",\"MDVP:Shimmer(dB)\",\"Shimmer:APQ3\",\"Shimmer:APQ5\",\"MDVP:APQ\",\"Shimmer:DDA\",\"NHR\",\"HNR\",\"status\",\"RPDE\",\"DFA\",\"spread1\",\"spread2\",\"D2\",\"PPE\",\"MDVP:Fo(Hz)\",\"MDVP:Fhi(Hz)\",\"MDVP:Flo(Hz)\",\"MDVP:Jitter(%)\",\"MDVP:Jitter(Abs)\",\"MDVP:RAP\",\"MDVP:PPQ\",\"Jitter:DDP\",\"MDVP:Shimmer\",\"MDVP:Shimmer(dB)\",\"Shimmer:APQ3\",\"Shimmer:APQ5\",\"MDVP:APQ\",\"Shimmer:DDA\",\"NHR\",\"HNR\",\"status\",\"RPDE\",\"DFA\",\"spread1\",\"spread2\",\"D2\",\"PPE\",\"MDVP:Fo(Hz)\",\"MDVP:Fhi(Hz)\",\"MDVP:Flo(Hz)\",\"MDVP:Jitter(%)\",\"MDVP:Jitter(Abs)\",\"MDVP:RAP\",\"MDVP:PPQ\",\"Jitter:DDP\",\"MDVP:Shimmer\",\"MDVP:Shimmer(dB)\",\"Shimmer:APQ3\",\"Shimmer:APQ5\",\"MDVP:APQ\",\"Shimmer:DDA\",\"NHR\",\"HNR\",\"status\",\"RPDE\",\"DFA\",\"spread1\",\"spread2\",\"D2\",\"PPE\",\"MDVP:Fo(Hz)\",\"MDVP:Fhi(Hz)\",\"MDVP:Flo(Hz)\",\"MDVP:Jitter(%)\",\"MDVP:Jitter(Abs)\",\"MDVP:RAP\",\"MDVP:PPQ\",\"Jitter:DDP\",\"MDVP:Shimmer\",\"MDVP:Shimmer(dB)\",\"Shimmer:APQ3\",\"Shimmer:APQ5\",\"MDVP:APQ\",\"Shimmer:DDA\",\"NHR\",\"HNR\",\"status\",\"RPDE\",\"DFA\",\"spread1\",\"spread2\",\"D2\",\"PPE\",\"MDVP:Fo(Hz)\",\"MDVP:Fhi(Hz)\",\"MDVP:Flo(Hz)\",\"MDVP:Jitter(%)\",\"MDVP:Jitter(Abs)\",\"MDVP:RAP\",\"MDVP:PPQ\",\"Jitter:DDP\",\"MDVP:Shimmer\",\"MDVP:Shimmer(dB)\",\"Shimmer:APQ3\",\"Shimmer:APQ5\",\"MDVP:APQ\",\"Shimmer:DDA\",\"NHR\",\"HNR\",\"status\",\"RPDE\",\"DFA\",\"spread1\",\"spread2\",\"D2\",\"PPE\",\"MDVP:Fo(Hz)\",\"MDVP:Fhi(Hz)\",\"MDVP:Flo(Hz)\",\"MDVP:Jitter(%)\",\"MDVP:Jitter(Abs)\",\"MDVP:RAP\",\"MDVP:PPQ\",\"Jitter:DDP\",\"MDVP:Shimmer\",\"MDVP:Shimmer(dB)\",\"Shimmer:APQ3\",\"Shimmer:APQ5\",\"MDVP:APQ\",\"Shimmer:DDA\",\"NHR\",\"HNR\",\"status\",\"RPDE\",\"DFA\",\"spread1\",\"spread2\",\"D2\",\"PPE\",\"MDVP:Fo(Hz)\",\"MDVP:Fhi(Hz)\",\"MDVP:Flo(Hz)\",\"MDVP:Jitter(%)\",\"MDVP:Jitter(Abs)\",\"MDVP:RAP\",\"MDVP:PPQ\",\"Jitter:DDP\",\"MDVP:Shimmer\",\"MDVP:Shimmer(dB)\",\"Shimmer:APQ3\",\"Shimmer:APQ5\",\"MDVP:APQ\",\"Shimmer:DDA\",\"NHR\",\"HNR\",\"status\",\"RPDE\",\"DFA\",\"spread1\",\"spread2\",\"D2\",\"PPE\",\"MDVP:Fo(Hz)\",\"MDVP:Fhi(Hz)\",\"MDVP:Flo(Hz)\",\"MDVP:Jitter(%)\",\"MDVP:Jitter(Abs)\",\"MDVP:RAP\",\"MDVP:PPQ\",\"Jitter:DDP\",\"MDVP:Shimmer\",\"MDVP:Shimmer(dB)\",\"Shimmer:APQ3\",\"Shimmer:APQ5\",\"MDVP:APQ\",\"Shimmer:DDA\",\"NHR\",\"HNR\",\"status\",\"RPDE\",\"DFA\",\"spread1\",\"spread2\",\"D2\",\"PPE\",\"MDVP:Fo(Hz)\",\"MDVP:Fhi(Hz)\",\"MDVP:Flo(Hz)\",\"MDVP:Jitter(%)\",\"MDVP:Jitter(Abs)\",\"MDVP:RAP\",\"MDVP:PPQ\",\"Jitter:DDP\",\"MDVP:Shimmer\",\"MDVP:Shimmer(dB)\",\"Shimmer:APQ3\",\"Shimmer:APQ5\",\"MDVP:APQ\",\"Shimmer:DDA\",\"NHR\",\"HNR\",\"status\",\"RPDE\",\"DFA\",\"spread1\",\"spread2\",\"D2\",\"PPE\"],\"r\":{\"__ndarray__\":\"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\",\"dtype\":\"float64\",\"order\":\"little\",\"shape\":[529]}},\"selected\":{\"id\":\"17410\"},\"selection_policy\":{\"id\":\"17409\"}},\"id\":\"16864\",\"type\":\"ColumnDataSource\"},{\"attributes\":{\"color_mapper\":{\"id\":\"16865\"},\"coordinates\":null,\"formatter\":{\"id\":\"16904\"},\"group\":null,\"location\":[0,0],\"major_label_policy\":{\"id\":\"17405\"},\"ticker\":{\"id\":\"16903\"}},\"id\":\"16905\",\"type\":\"ColorBar\"},{\"attributes\":{\"high\":1.0,\"low\":0.0022812312855108215,\"palette\":[\"#440154\",\"#440255\",\"#440357\",\"#450558\",\"#45065A\",\"#45085B\",\"#46095C\",\"#460B5E\",\"#460C5F\",\"#460E61\",\"#470F62\",\"#471163\",\"#471265\",\"#471466\",\"#471567\",\"#471669\",\"#47186A\",\"#48196B\",\"#481A6C\",\"#481C6E\",\"#481D6F\",\"#481E70\",\"#482071\",\"#482172\",\"#482273\",\"#482374\",\"#472575\",\"#472676\",\"#472777\",\"#472878\",\"#472A79\",\"#472B7A\",\"#472C7B\",\"#462D7C\",\"#462F7C\",\"#46307D\",\"#46317E\",\"#45327F\",\"#45347F\",\"#453580\",\"#453681\",\"#443781\",\"#443982\",\"#433A83\",\"#433B83\",\"#433C84\",\"#423D84\",\"#423E85\",\"#424085\",\"#414186\",\"#414286\",\"#404387\",\"#404487\",\"#3F4587\",\"#3F4788\",\"#3E4888\",\"#3E4989\",\"#3D4A89\",\"#3D4B89\",\"#3D4C89\",\"#3C4D8A\",\"#3C4E8A\",\"#3B508A\",\"#3B518A\",\"#3A528B\",\"#3A538B\",\"#39548B\",\"#39558B\",\"#38568B\",\"#38578C\",\"#37588C\",\"#37598C\",\"#365A8C\",\"#365B8C\",\"#355C8C\",\"#355D8C\",\"#345E8D\",\"#345F8D\",\"#33608D\",\"#33618D\",\"#32628D\",\"#32638D\",\"#31648D\",\"#31658D\",\"#31668D\",\"#30678D\",\"#30688D\",\"#2F698D\",\"#2F6A8D\",\"#2E6B8E\",\"#2E6C8E\",\"#2E6D8E\",\"#2D6E8E\",\"#2D6F8E\",\"#2C708E\",\"#2C718E\",\"#2C728E\",\"#2B738E\",\"#2B748E\",\"#2A758E\",\"#2A768E\",\"#2A778E\",\"#29788E\",\"#29798E\",\"#287A8E\",\"#287A8E\",\"#287B8E\",\"#277C8E\",\"#277D8E\",\"#277E8E\",\"#267F8E\",\"#26808E\",\"#26818E\",\"#25828E\",\"#25838D\",\"#24848D\",\"#24858D\",\"#24868D\",\"#23878D\",\"#23888D\",\"#23898D\",\"#22898D\",\"#228A8D\",\"#228B8D\",\"#218C8D\",\"#218D8C\",\"#218E8C\",\"#208F8C\",\"#20908C\",\"#20918C\",\"#1F928C\",\"#1F938B\",\"#1F948B\",\"#1F958B\",\"#1F968B\",\"#1E978A\",\"#1E988A\",\"#1E998A\",\"#1E998A\",\"#1E9A89\",\"#1E9B89\",\"#1E9C89\",\"#1E9D88\",\"#1E9E88\",\"#1E9F88\",\"#1EA087\",\"#1FA187\",\"#1FA286\",\"#1FA386\",\"#20A485\",\"#20A585\",\"#21A685\",\"#21A784\",\"#22A784\",\"#23A883\",\"#23A982\",\"#24AA82\",\"#25AB81\",\"#26AC81\",\"#27AD80\",\"#28AE7F\",\"#29AF7F\",\"#2AB07E\",\"#2BB17D\",\"#2CB17D\",\"#2EB27C\",\"#2FB37B\",\"#30B47A\",\"#32B57A\",\"#33B679\",\"#35B778\",\"#36B877\",\"#38B976\",\"#39B976\",\"#3BBA75\",\"#3DBB74\",\"#3EBC73\",\"#40BD72\",\"#42BE71\",\"#44BE70\",\"#45BF6F\",\"#47C06E\",\"#49C16D\",\"#4BC26C\",\"#4DC26B\",\"#4FC369\",\"#51C468\",\"#53C567\",\"#55C666\",\"#57C665\",\"#59C764\",\"#5BC862\",\"#5EC961\",\"#60C960\",\"#62CA5F\",\"#64CB5D\",\"#67CC5C\",\"#69CC5B\",\"#6BCD59\",\"#6DCE58\",\"#70CE56\",\"#72CF55\",\"#74D054\",\"#77D052\",\"#79D151\",\"#7CD24F\",\"#7ED24E\",\"#81D34C\",\"#83D34B\",\"#86D449\",\"#88D547\",\"#8BD546\",\"#8DD644\",\"#90D643\",\"#92D741\",\"#95D73F\",\"#97D83E\",\"#9AD83C\",\"#9DD93A\",\"#9FD938\",\"#A2DA37\",\"#A5DA35\",\"#A7DB33\",\"#AADB32\",\"#ADDC30\",\"#AFDC2E\",\"#B2DD2C\",\"#B5DD2B\",\"#B7DD29\",\"#BADE27\",\"#BDDE26\",\"#BFDF24\",\"#C2DF22\",\"#C5DF21\",\"#C7E01F\",\"#CAE01E\",\"#CDE01D\",\"#CFE11C\",\"#D2E11B\",\"#D4E11A\",\"#D7E219\",\"#DAE218\",\"#DCE218\",\"#DFE318\",\"#E1E318\",\"#E4E318\",\"#E7E419\",\"#E9E419\",\"#ECE41A\",\"#EEE51B\",\"#F1E51C\",\"#F3E51E\",\"#F6E61F\",\"#F8E621\",\"#FAE622\",\"#FDE724\"]},\"id\":\"16865\",\"type\":\"LinearColorMapper\"},{\"attributes\":{},\"id\":\"16878\",\"type\":\"CategoricalTicker\"},{\"attributes\":{\"fill_alpha\":{\"value\":0.2},\"fill_color\":{\"field\":\"r\",\"transform\":{\"id\":\"16865\"}},\"hatch_alpha\":{\"value\":0.2},\"height\":{\"value\":1},\"line_alpha\":{\"value\":0.2},\"line_color\":{\"value\":null},\"width\":{\"value\":1},\"x\":{\"field\":\"level_0\"},\"y\":{\"field\":\"level_1\"}},\"id\":\"16900\",\"type\":\"Rect\"},{\"attributes\":{\"factors\":[\"PPE\",\"D2\",\"spread2\",\"spread1\",\"DFA\",\"RPDE\",\"status\",\"HNR\",\"NHR\",\"Shimmer:DDA\",\"MDVP:APQ\",\"Shimmer:APQ5\",\"Shimmer:APQ3\",\"MDVP:Shimmer(dB)\",\"MDVP:Shimmer\",\"Jitter:DDP\",\"MDVP:PPQ\",\"MDVP:RAP\",\"MDVP:Jitter(Abs)\",\"MDVP:Jitter(%)\",\"MDVP:Flo(Hz)\",\"MDVP:Fhi(Hz)\",\"MDVP:Fo(Hz)\"]},\"id\":\"16871\",\"type\":\"FactorRange\"},{\"attributes\":{},\"id\":\"16875\",\"type\":\"CategoricalScale\"},{\"attributes\":{},\"id\":\"16886\",\"type\":\"SaveTool\"},{\"attributes\":{\"bottom_units\":\"screen\",\"coordinates\":null,\"fill_alpha\":0.5,\"fill_color\":\"lightgrey\",\"group\":null,\"left_units\":\"screen\",\"level\":\"overlay\",\"line_alpha\":1.0,\"line_color\":\"black\",\"line_dash\":[4,4],\"line_width\":2,\"right_units\":\"screen\",\"syncable\":false,\"top_units\":\"screen\"},\"id\":\"16889\",\"type\":\"BoxAnnotation\"},{\"attributes\":{\"desired_num_ticks\":23},\"id\":\"16903\",\"type\":\"BasicTicker\"},{\"attributes\":{},\"id\":\"16888\",\"type\":\"HelpTool\"},{\"attributes\":{},\"id\":\"16883\",\"type\":\"PanTool\"},{\"attributes\":{\"axis\":{\"id\":\"16880\"},\"coordinates\":null,\"dimension\":1,\"group\":null,\"ticker\":null},\"id\":\"16882\",\"type\":\"Grid\"},{\"attributes\":{},\"id\":\"16887\",\"type\":\"ResetTool\"},{\"attributes\":{\"overlay\":{\"id\":\"16889\"}},\"id\":\"16885\",\"type\":\"BoxZoomTool\"},{\"attributes\":{\"fill_color\":{\"field\":\"r\",\"transform\":{\"id\":\"16865\"}},\"height\":{\"value\":1},\"line_color\":{\"value\":null},\"width\":{\"value\":1},\"x\":{\"field\":\"level_0\"},\"y\":{\"field\":\"level_1\"}},\"id\":\"16898\",\"type\":\"Rect\"},{\"attributes\":{\"factors\":[\"MDVP:Fo(Hz)\",\"MDVP:Fhi(Hz)\",\"MDVP:Flo(Hz)\",\"MDVP:Jitter(%)\",\"MDVP:Jitter(Abs)\",\"MDVP:RAP\",\"MDVP:PPQ\",\"Jitter:DDP\",\"MDVP:Shimmer\",\"MDVP:Shimmer(dB)\",\"Shimmer:APQ3\",\"Shimmer:APQ5\",\"MDVP:APQ\",\"Shimmer:DDA\",\"NHR\",\"HNR\",\"status\",\"RPDE\",\"DFA\",\"spread1\",\"spread2\",\"D2\",\"PPE\"]},\"id\":\"16869\",\"type\":\"FactorRange\"},{\"attributes\":{\"axis_line_color\":null,\"coordinates\":null,\"formatter\":{\"id\":\"17403\"},\"group\":null,\"major_label_policy\":{\"id\":\"17404\"},\"major_label_standoff\":0,\"major_label_text_font_size\":\"10px\",\"major_tick_line_color\":null,\"ticker\":{\"id\":\"16881\"}},\"id\":\"16880\",\"type\":\"CategoricalAxis\"},{\"attributes\":{},\"id\":\"16881\",\"type\":\"CategoricalTicker\"},{\"attributes\":{},\"id\":\"16884\",\"type\":\"WheelZoomTool\"},{\"attributes\":{\"fill_alpha\":{\"value\":0.1},\"fill_color\":{\"field\":\"r\",\"transform\":{\"id\":\"16865\"}},\"hatch_alpha\":{\"value\":0.1},\"height\":{\"value\":1},\"line_alpha\":{\"value\":0.1},\"line_color\":{\"value\":null},\"width\":{\"value\":1},\"x\":{\"field\":\"level_0\"},\"y\":{\"field\":\"level_1\"}},\"id\":\"16899\",\"type\":\"Rect\"},{\"attributes\":{},\"id\":\"17410\",\"type\":\"Selection\"},{\"attributes\":{\"axis_line_color\":null,\"coordinates\":null,\"formatter\":{\"id\":\"17407\"},\"group\":null,\"major_label_orientation\":1.0,\"major_label_policy\":{\"id\":\"17408\"},\"major_label_standoff\":0,\"major_label_text_font_size\":\"10px\",\"major_tick_line_color\":null,\"ticker\":{\"id\":\"16878\"}},\"id\":\"16877\",\"type\":\"CategoricalAxis\"}],\"root_ids\":[\"16866\"]},\"title\":\"Bokeh Application\",\"version\":\"2.4.2\"}};\n  const render_items = [{\"docid\":\"5100fd34-800f-4198-868f-f9339bfb9393\",\"root_ids\":[\"16866\"],\"roots\":{\"16866\":\"17180c50-c3d4-4fb4-a623-92718f491dec\"}}];\n  root.Bokeh.embed.embed_items_notebook(docs_json, render_items);\n\n  }\n  if (root.Bokeh !== undefined) {\n    embed_document(root);\n  } else {\n    let attempts = 0;\n    const timer = setInterval(function(root) {\n      if (root.Bokeh !== undefined) {\n        clearInterval(timer);\n        embed_document(root);\n      } else {\n        attempts++;\n        if (attempts > 100) {\n          clearInterval(timer);\n          console.log(\"Bokeh: ERROR: Unable to run BokehJS code because BokehJS library is missing\");\n        }\n      }\n    }, 10, root)\n  }\n})(window);",
      "application/vnd.bokehjs_exec.v0+json": ""
     },
     "metadata": {
      "application/vnd.bokehjs_exec.v0+json": {
       "id": "16866"
      }
     },
     "output_type": "display_data"
    },
    {
     "name": "stdout",
     "output_type": "stream",
     "text": [
      "MDVP:Fhi(Hz)        0.166136\n",
      "NHR                 0.189429\n",
      "DFA                 0.231739\n",
      "Jitter:DDP          0.266646\n",
      "MDVP:RAP            0.266668\n",
      "MDVP:Jitter(%)      0.278220\n",
      "MDVP:PPQ            0.288698\n",
      "RPDE                0.308567\n",
      "MDVP:Jitter(Abs)    0.338653\n",
      "D2                  0.340232\n",
      "Shimmer:DDA         0.347608\n",
      "Shimmer:APQ3        0.347617\n",
      "MDVP:Shimmer(dB)    0.350697\n",
      "Shimmer:APQ5        0.351148\n",
      "HNR                 0.361515\n",
      "MDVP:APQ            0.364316\n",
      "MDVP:Shimmer        0.367430\n",
      "MDVP:Flo(Hz)        0.380200\n",
      "MDVP:Fo(Hz)         0.383535\n",
      "spread2             0.454842\n",
      "PPE                 0.531039\n",
      "spread1             0.564838\n",
      "status              1.000000\n",
      "Name: status, dtype: float64\n"
     ]
    }
   ],
   "source": [
    "c = data.corr().abs()\n",
    "y_range = (list(reversed(c.columns)))\n",
    "x_range = (list(c.index))\n",
    "#plot a heatmap\n",
    "\n",
    "\n",
    "#reshape\n",
    "dfc = pd.DataFrame(c.stack(), columns=['r']).reset_index()\n",
    "#create colormapper \n",
    "\n",
    "#transfer to ColumnDataSource object\n",
    "source = ColumnDataSource(dfc)\n",
    "mapper = LinearColorMapper(palette=Viridis256, low=dfc.r.min(), high=dfc.r.max())\n",
    "\n",
    "#create plot\n",
    "p = figure(title=\"correlation heatmap\", plot_width=500, plot_height=450,\n",
    "           x_range=x_range, y_range=y_range, x_axis_location=\"above\", toolbar_location=None)\n",
    "\n",
    "#use mapper to fill the rectangles in the plot\n",
    "p.rect(x=\"level_0\", y=\"level_1\", width=1, height=1, source=source,\n",
    "       line_color=None, fill_color=transform('r', mapper))\n",
    "\n",
    "#create and add colorbar to the right\n",
    "color_bar = ColorBar(color_mapper=mapper, location=(0, 0),\n",
    "                     ticker=BasicTicker(desired_num_ticks=len(x_range)), \n",
    "                     formatter=PrintfTickFormatter(format=\"%.1f\"))\n",
    "p.add_layout(color_bar, 'right')\n",
    "\n",
    "#draw axis\n",
    "p.axis.axis_line_color = None\n",
    "p.axis.major_tick_line_color = None\n",
    "p.axis.major_label_text_font_size = \"10px\"\n",
    "p.axis.major_label_standoff = 0\n",
    "p.xaxis.major_label_orientation = 1.0\n",
    "\n",
    "#show\n",
    "show(p)\n",
    "\n",
    "print(c['status'].sort_values())"
   ]
  },
  {
   "cell_type": "markdown",
   "metadata": {},
   "source": [
    "There are some correlated values in the dataset, but we're most interested in the correlation between 'status' and other parameters.\n",
    "\n",
    "so far it does not seem that there are highly correlated parameters for the status parameter(no really light or yellow intersections). however, it does appear that most parameters have a correlation of around .3 to .5 with the status parameter.\n",
    "\n",
    "As we can see, the 'spread1', 'spread2', and 'PPE' have the highest correlation with the status parameter. I will make several different datasets which contain: \n",
    "- dataset 1: R > 0.4\n",
    "- dataset 2: R > 0.3\n",
    "- dataset 3: == normal dataset, this will be the reference model\n"
   ]
  },
  {
   "cell_type": "markdown",
   "metadata": {},
   "source": [
    "We drop the name column and set the status column as the y axis, before dropping it as well.\n"
   ]
  },
  {
   "cell_type": "code",
   "execution_count": 692,
   "metadata": {},
   "outputs": [],
   "source": [
    "y = data.status.values\n",
    "\n",
    "data.drop(['status', 'name'], axis=1, inplace = True)\n",
    "\n",
    "X_full = data.values\n",
    "\n",
    "\n",
    "names_high = c[c['status'] > 0.4].index\n",
    "X_high = data[names_high[1:]].values\n",
    "\n",
    "names_middle = c[c['status'] > 0.3].index\n",
    "X_middle = data[names_high[1:]].values\n",
    "\n",
    "\n",
    "# I took all the code for scaling and selecting features and put it all in a single function.\n",
    "def feature_selector(data_frame = data, r=1):\n",
    "    names = c[c['status'] >= r].index\n",
    "    print(f'The following columns have a correlation score above {r}:\\n{names}')\n",
    "    X = data_frame[names[1:]].values\n",
    "    print(f'X-shape = {X.shape}, y-shape = {y.shape}')\n",
    "    scaler = StandardScaler()\n",
    "    scaler = scaler.fit(X)\n",
    "    X = scaler.transform(X)\n",
    "    return train_test_split(X, y, test_size=0.3, random_state=1)\n"
   ]
  },
  {
   "cell_type": "code",
   "execution_count": 693,
   "metadata": {},
   "outputs": [
    {
     "name": "stdout",
     "output_type": "stream",
     "text": [
      "X-shape = (195, 22), y-shape = (195,)\n"
     ]
    }
   ],
   "source": [
    "print(f'X-shape = {X.shape}, y-shape = {y.shape}')"
   ]
  },
  {
   "cell_type": "markdown",
   "metadata": {},
   "source": [
    "As we can see, y has the shape '195,' which needs to be reshaped to be '195,1'"
   ]
  },
  {
   "cell_type": "code",
   "execution_count": 694,
   "metadata": {},
   "outputs": [],
   "source": [
    "y = y.reshape(-1,1)"
   ]
  },
  {
   "cell_type": "code",
   "execution_count": 695,
   "metadata": {},
   "outputs": [
    {
     "data": {
      "text/plain": [
       "(195, 1)"
      ]
     },
     "execution_count": 695,
     "metadata": {},
     "output_type": "execute_result"
    }
   ],
   "source": [
    "y.shape"
   ]
  },
  {
   "cell_type": "markdown",
   "metadata": {},
   "source": [
    "Now we need to normalize the data to prevent higher numbers to affect the outcome of the algorithms. \n",
    "\n",
    "For this i use the standardscaler from scikit-learn"
   ]
  },
  {
   "cell_type": "code",
   "execution_count": 696,
   "metadata": {},
   "outputs": [],
   "source": [
    "scaler = StandardScaler()\n",
    "scaler = scaler.fit(X)\n",
    "X = scaler.transform(X)"
   ]
  },
  {
   "cell_type": "markdown",
   "metadata": {},
   "source": [
    "Now that the data is scaled we split the data into training data and into test data! for this we use a 70/30 ratio, so we have a decent amount of data to test with while still keeping enough to teach the algorithm"
   ]
  },
  {
   "cell_type": "code",
   "execution_count": 697,
   "metadata": {},
   "outputs": [],
   "source": [
    "X_train, X_test, y_train, y_test = train_test_split(X, y, test_size=0.3, random_state=1)\n",
    "X_high_train, X__high_test, y_train, y_test = train_test_split(X_high, y, test_size=0.3, random_state=1)\n",
    "X_middle_train, X_middle_test, y_train, y_test = train_test_split(X_middle, y, test_size=0.3, random_state=1)"
   ]
  },
  {
   "cell_type": "markdown",
   "metadata": {},
   "source": [
    "## Training the models\n",
    "\n",
    "logistic regression:\n"
   ]
  },
  {
   "cell_type": "code",
   "execution_count": 698,
   "metadata": {},
   "outputs": [],
   "source": [
    "m,n = X.shape\n",
    "theta = np.zeros(n)\n",
    "theta = np.reshape(theta, (n,1))\n"
   ]
  },
  {
   "cell_type": "code",
   "execution_count": 699,
   "metadata": {},
   "outputs": [
    {
     "data": {
      "image/png": "[encoded data removed]",
      "text/plain": [
       "<Figure size 432x288 with 1 Axes>"
      ]
     },
     "metadata": {
      "needs_background": "light"
     },
     "output_type": "display_data"
    }
   ],
   "source": [
    "def sigmoid(z):\n",
    "    '''\n",
    "    implementation of the sigmoid function\n",
    "    '''\n",
    "    return 1 / (1 + np.exp(-z))\n",
    "\n",
    "def prediction(theta, X):\n",
    "    '''\n",
    "    feed the linear regression model into the sigmoid function\n",
    "    '''\n",
    "    return sigmoid(np.dot(X, theta.T))\n",
    "\n",
    "# check the sigmoid curve\n",
    "nums = np.linspace(-10, 10, 40)\n",
    "plt.plot(nums, sigmoid(nums), 'r')\n",
    "plt.show()\n"
   ]
  },
  {
   "cell_type": "code",
   "execution_count": 700,
   "metadata": {},
   "outputs": [],
   "source": [
    "def computeCost(theta, X, y):\n",
    "    '''\n",
    "    Cost function for the regression model\n",
    "    '''\n",
    "    m,n = X.shape\n",
    "    # theta = np.reshape(theta, (1,n))\n",
    "    pred = prediction(theta, X)\n",
    "    J = (y * np.log(pred) + (1-y) * np.log(1-pred))\n",
    "    return np.mean(-J)\n",
    "\n",
    "def gradient(theta, X, y):\n",
    "    '''\n",
    "    return the derivative for gradient descent\n",
    "    '''\n",
    "    m,n = X.shape\n",
    "    theta = theta.reshape(1,n)\n",
    "    error = sigmoid(np.dot(X,  theta.T)) - y\n",
    "\n",
    "    return np.dot(error.T, X)/m"
   ]
  },
  {
   "cell_type": "code",
   "execution_count": 710,
   "metadata": {},
   "outputs": [
    {
     "name": "stderr",
     "output_type": "stream",
     "text": [
      "c:\\Users\\thijs\\anaconda3\\envs\\supervised_machine_learning_ds4\\lib\\site-packages\\sklearn\\utils\\validation.py:993: DataConversionWarning: A column-vector y was passed when a 1d array was expected. Please change the shape of y to (n_samples, ), for example using ravel().\n",
      "  y = column_or_1d(y, warn=True)\n"
     ]
    },
    {
     "data": {
      "text/plain": [
       "0.8135593220338984"
      ]
     },
     "execution_count": 710,
     "metadata": {},
     "output_type": "execute_result"
    }
   ],
   "source": [
    "# perform the gradient descent\n",
    "# result = opt.fmin_tnc(func=computeCost, x0=theta, fprime=gradient, args=(X_train, y_train))\n",
    "# print(result)\n",
    "\n",
    "from sklearn.linear_model import LogisticRegression\n",
    "clf = LogisticRegression(random_state=42).fit(X_train, y_train)\n",
    "clf.score(X_test, y_test)"
   ]
  }
 ],
 "metadata": {
  "interpreter": {
   "hash": "6a2e9d7d3113a55a8311c511c816e5d99b0effd152f59764070cbed74a8231d8"
  },
  "kernelspec": {
   "display_name": "Python 3.9.12 ('supervised_machine_learning_ds4')",
   "language": "python",
   "name": "python3"
  },
  "language_info": {
   "codemirror_mode": {
    "name": "ipython",
    "version": 3
   },
   "file_extension": ".py",
   "mimetype": "text/x-python",
   "name": "python",
   "nbconvert_exporter": "python",
   "pygments_lexer": "ipython3",
   "version": "3.9.12"
  },
  "orig_nbformat": 4
 },
 "nbformat": 4,
 "nbformat_minor": 2
}
