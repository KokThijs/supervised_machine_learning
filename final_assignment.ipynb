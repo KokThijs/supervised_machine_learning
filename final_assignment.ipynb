{
 "cells": [
  {
   "cell_type": "markdown",
   "metadata": {},
   "source": [
    "# Final Assignment Supervised learning\n",
    "\n",
    "## information\n",
    "    Thijs Kok\n",
    "    348224\n",
    "    DSLS"
   ]
  },
  {
   "cell_type": "code",
   "execution_count": null,
   "metadata": {},
   "outputs": [],
   "source": [
    "import requests"
   ]
  },
  {
   "cell_type": "code",
   "execution_count": null,
   "metadata": {},
   "outputs": [],
   "source": []
  }
 ],
 "metadata": {
  "interpreter": {
   "hash": "6a2e9d7d3113a55a8311c511c816e5d99b0effd152f59764070cbed74a8231d8"
  },
  "kernelspec": {
   "display_name": "Python 3.9.12 ('supervised_machine_learning_ds4')",
   "language": "python",
   "name": "python3"
  },
  "language_info": {
   "name": "python",
   "version": "3.9.12"
  },
  "orig_nbformat": 4
 },
 "nbformat": 4,
 "nbformat_minor": 2
}
